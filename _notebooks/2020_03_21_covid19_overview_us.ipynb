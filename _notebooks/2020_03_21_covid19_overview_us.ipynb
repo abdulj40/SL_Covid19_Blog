{
 "cells": [
  {
   "cell_type": "markdown",
   "metadata": {
    "colab_type": "text",
    "id": "2AjCIvVGOsjv",
    "papermill": {
     "duration": 0.011674,
     "end_time": "2020-04-06T06:06:26.276965",
     "exception": false,
     "start_time": "2020-04-06T06:06:26.265291",
     "status": "completed"
    },
    "tags": []
   },
   "source": [
    "# COVID-19 Tracking U.S. Cases\n",
    "> Tracking coronavirus total cases, deaths and new cases in US by states.\n",
    "\n",
    "- comments: true\n",
    "- author: Pratap Vardhan\n",
    "- categories: [overview, interactive, usa]\n",
    "- hide: true\n",
    "- permalink: /covid-overview-us/"
   ]
  },
  {
   "cell_type": "code",
   "execution_count": 1,
   "metadata": {
    "colab": {},
    "colab_type": "code",
    "execution": {
     "iopub.execute_input": "2020-04-06T06:06:26.299775Z",
     "iopub.status.busy": "2020-04-06T06:06:26.299167Z",
     "iopub.status.idle": "2020-04-06T06:06:26.303678Z",
     "shell.execute_reply": "2020-04-06T06:06:26.303085Z"
    },
    "id": "gP24WC9iOsj6",
    "outputId": "fcfffcaf-4c31-4ccb-ce1e-1b36d482a971",
    "papermill": {
     "duration": 0.019647,
     "end_time": "2020-04-06T06:06:26.303787",
     "exception": false,
     "start_time": "2020-04-06T06:06:26.284140",
     "status": "completed"
    },
    "tags": []
   },
   "outputs": [
    {
     "name": "stdout",
     "output_type": "stream",
     "text": [
      "\n",
      "Example of using jupyter notebook, pandas (data transformations), jinja2 (html, visual)\n",
      "to create visual dashboards with fastpages\n",
      "You see also the live version on https://gramener.com/enumter/covid19/united-states.html\n",
      "\n"
     ]
    }
   ],
   "source": [
    "#hide\n",
    "print('''\n",
    "Example of using jupyter notebook, pandas (data transformations), jinja2 (html, visual)\n",
    "to create visual dashboards with fastpages\n",
    "You see also the live version on https://gramener.com/enumter/covid19/united-states.html\n",
    "''')"
   ]
  },
  {
   "cell_type": "markdown",
   "metadata": {},
   "source": [
    "{% include info.html text=\"The data here are not up to date as source lag in updating its repository.\" %}"
   ]
  },
  {
   "cell_type": "markdown",
   "metadata": {},
   "source": [
    "**For up to date data, check **[\"World\"](https://abdulj40.github.io/SL_Covid19_Blog/covid-overview/)"
   ]
  },
  {
   "cell_type": "code",
   "execution_count": 2,
   "metadata": {
    "colab": {},
    "colab_type": "code",
    "execution": {
     "iopub.execute_input": "2020-04-06T06:06:26.323073Z",
     "iopub.status.busy": "2020-04-06T06:06:26.322130Z",
     "iopub.status.idle": "2020-04-06T06:06:26.640583Z",
     "shell.execute_reply": "2020-04-06T06:06:26.639520Z"
    },
    "id": "hGnJPMcDOsl4",
    "papermill": {
     "duration": 0.329567,
     "end_time": "2020-04-06T06:06:26.640706",
     "exception": false,
     "start_time": "2020-04-06T06:06:26.311139",
     "status": "completed"
    },
    "tags": []
   },
   "outputs": [],
   "source": [
    "#hide\n",
    "import numpy as np\n",
    "import pandas as pd\n",
    "from jinja2 import Template\n",
    "from IPython.display import HTML"
   ]
  },
  {
   "cell_type": "code",
   "execution_count": 3,
   "metadata": {
    "colab": {},
    "colab_type": "code",
    "execution": {
     "iopub.execute_input": "2020-04-06T06:06:26.662894Z",
     "iopub.status.busy": "2020-04-06T06:06:26.661530Z",
     "iopub.status.idle": "2020-04-06T06:06:26.663676Z",
     "shell.execute_reply": "2020-04-06T06:06:26.664208Z"
    },
    "id": "Dz-OKqIbOsm4",
    "papermill": {
     "duration": 0.015717,
     "end_time": "2020-04-06T06:06:26.664329",
     "exception": false,
     "start_time": "2020-04-06T06:06:26.648612",
     "status": "completed"
    },
    "tags": []
   },
   "outputs": [],
   "source": [
    "#hide\n",
    "from pathlib import Path\n",
    "if not Path('covid_overview.py').exists():\n",
    "    ! wget https://raw.githubusercontent.com/pratapvardhan/notebooks/master/covid19/covid_overview.py"
   ]
  },
  {
   "cell_type": "code",
   "execution_count": 3,
   "metadata": {
    "colab": {},
    "colab_type": "code",
    "execution": {
     "iopub.execute_input": "2020-04-06T06:06:26.682675Z",
     "iopub.status.busy": "2020-04-06T06:06:26.681963Z",
     "iopub.status.idle": "2020-04-06T06:06:26.754021Z",
     "shell.execute_reply": "2020-04-06T06:06:26.753329Z"
    },
    "id": "F5z7rr0KOsoP",
    "papermill": {
     "duration": 0.082267,
     "end_time": "2020-04-06T06:06:26.754141",
     "exception": false,
     "start_time": "2020-04-06T06:06:26.671874",
     "status": "completed"
    },
    "tags": []
   },
   "outputs": [],
   "source": [
    "#hide\n",
    "import covid_overview as covid"
   ]
  },
  {
   "cell_type": "code",
   "execution_count": 4,
   "metadata": {
    "colab": {},
    "colab_type": "code",
    "execution": {
     "iopub.execute_input": "2020-04-06T06:06:26.777751Z",
     "iopub.status.busy": "2020-04-06T06:06:26.776812Z",
     "iopub.status.idle": "2020-04-06T06:06:26.894238Z",
     "shell.execute_reply": "2020-04-06T06:06:26.893793Z"
    },
    "id": "h0YOPO_MOspM",
    "papermill": {
     "duration": 0.132915,
     "end_time": "2020-04-06T06:06:26.894333",
     "exception": false,
     "start_time": "2020-04-06T06:06:26.761418",
     "status": "completed"
    },
    "tags": []
   },
   "outputs": [],
   "source": [
    "#hide\n",
    "COL_REGION = 'Province/State'   \n",
    "kpis_info = [\n",
    "    {'title': 'New York', 'prefix': 'NY'},\n",
    "    {'title': 'Washington', 'prefix': 'WA'},\n",
    "    {'title': 'California', 'prefix': 'CA'}]\n",
    "data = covid.gen_data_us(region=COL_REGION, kpis_info=kpis_info)"
   ]
  },
  {
   "cell_type": "code",
   "execution_count": 5,
   "metadata": {
    "colab": {},
    "colab_type": "code",
    "execution": {
     "iopub.execute_input": "2020-04-06T06:06:26.931534Z",
     "iopub.status.busy": "2020-04-06T06:06:26.925565Z",
     "iopub.status.idle": "2020-04-06T06:06:26.934266Z",
     "shell.execute_reply": "2020-04-06T06:06:26.934960Z"
    },
    "id": "C9R_4kw2Ospd",
    "outputId": "b80d53b6-8243-4b5b-a913-4fcbde955c30",
    "papermill": {
     "duration": 0.032638,
     "end_time": "2020-04-06T06:06:26.935095",
     "exception": false,
     "start_time": "2020-04-06T06:06:26.902457",
     "status": "completed"
    },
    "tags": []
   },
   "outputs": [
    {
     "data": {
      "text/html": [
       "<div>\n",
       "<style scoped>\n",
       "    .dataframe tbody tr th:only-of-type {\n",
       "        vertical-align: middle;\n",
       "    }\n",
       "\n",
       "    .dataframe tbody tr th {\n",
       "        vertical-align: top;\n",
       "    }\n",
       "\n",
       "    .dataframe thead th {\n",
       "        text-align: right;\n",
       "    }\n",
       "</style>\n",
       "<table border=\"1\" class=\"dataframe\">\n",
       "  <thead>\n",
       "    <tr style=\"text-align: right;\">\n",
       "      <th></th>\n",
       "      <th>Province/State</th>\n",
       "      <th>Cases</th>\n",
       "      <th>Deaths</th>\n",
       "      <th>casesAgo</th>\n",
       "      <th>deathsAgo</th>\n",
       "      <th>Cases (+)</th>\n",
       "      <th>Deaths (+)</th>\n",
       "      <th>Fatality Rate</th>\n",
       "    </tr>\n",
       "  </thead>\n",
       "  <tbody>\n",
       "    <tr>\n",
       "      <th>33</th>\n",
       "      <td>New York</td>\n",
       "      <td>130703</td>\n",
       "      <td>4758</td>\n",
       "      <td>83889</td>\n",
       "      <td>1941</td>\n",
       "      <td>46814</td>\n",
       "      <td>2817</td>\n",
       "      <td>3.6</td>\n",
       "    </tr>\n",
       "    <tr>\n",
       "      <th>31</th>\n",
       "      <td>New Jersey</td>\n",
       "      <td>41090</td>\n",
       "      <td>1005</td>\n",
       "      <td>22255</td>\n",
       "      <td>355</td>\n",
       "      <td>18835</td>\n",
       "      <td>650</td>\n",
       "      <td>2.4</td>\n",
       "    </tr>\n",
       "    <tr>\n",
       "      <th>23</th>\n",
       "      <td>Michigan</td>\n",
       "      <td>17130</td>\n",
       "      <td>727</td>\n",
       "      <td>9293</td>\n",
       "      <td>336</td>\n",
       "      <td>7837</td>\n",
       "      <td>391</td>\n",
       "      <td>4.2</td>\n",
       "    </tr>\n",
       "    <tr>\n",
       "      <th>4</th>\n",
       "      <td>California</td>\n",
       "      <td>16284</td>\n",
       "      <td>386</td>\n",
       "      <td>9816</td>\n",
       "      <td>212</td>\n",
       "      <td>6468</td>\n",
       "      <td>174</td>\n",
       "      <td>2.4</td>\n",
       "    </tr>\n",
       "    <tr>\n",
       "      <th>19</th>\n",
       "      <td>Louisiana</td>\n",
       "      <td>14867</td>\n",
       "      <td>512</td>\n",
       "      <td>6424</td>\n",
       "      <td>273</td>\n",
       "      <td>8443</td>\n",
       "      <td>239</td>\n",
       "      <td>3.4</td>\n",
       "    </tr>\n",
       "  </tbody>\n",
       "</table>\n",
       "</div>"
      ],
      "text/plain": [
       "   Province/State   Cases  Deaths  casesAgo  deathsAgo  Cases (+)  Deaths (+)  \\\n",
       "33       New York  130703    4758     83889       1941      46814        2817   \n",
       "31     New Jersey   41090    1005     22255        355      18835         650   \n",
       "23       Michigan   17130     727      9293        336       7837         391   \n",
       "4      California   16284     386      9816        212       6468         174   \n",
       "19      Louisiana   14867     512      6424        273       8443         239   \n",
       "\n",
       "    Fatality Rate  \n",
       "33            3.6  \n",
       "31            2.4  \n",
       "23            4.2  \n",
       "4             2.4  \n",
       "19            3.4  "
      ]
     },
     "execution_count": 5,
     "metadata": {},
     "output_type": "execute_result"
    }
   ],
   "source": [
    "#hide\n",
    "data['table'].head(5)"
   ]
  },
  {
   "cell_type": "code",
   "execution_count": 6,
   "metadata": {
    "colab": {},
    "colab_type": "code",
    "execution": {
     "iopub.execute_input": "2020-04-06T06:06:26.957693Z",
     "iopub.status.busy": "2020-04-06T06:06:26.956686Z",
     "iopub.status.idle": "2020-04-06T06:06:27.105988Z",
     "shell.execute_reply": "2020-04-06T06:06:27.105529Z"
    },
    "id": "subQBcSdOsqt",
    "outputId": "e2c2f6a8-d077-43a2-8a9b-65b2a014d42b",
    "papermill": {
     "duration": 0.162809,
     "end_time": "2020-04-06T06:06:27.106093",
     "exception": false,
     "start_time": "2020-04-06T06:06:26.943284",
     "status": "completed"
    },
    "tags": []
   },
   "outputs": [
    {
     "ename": "TypeError",
     "evalue": "unsupported format string passed to Undefined.__format__",
     "output_type": "error",
     "traceback": [
      "\u001b[1;31m---------------------------------------------------------------------------\u001b[0m",
      "\u001b[1;31mTypeError\u001b[0m                                 Traceback (most recent call last)",
      "\u001b[1;32m<ipython-input-6-60457a065348>\u001b[0m in \u001b[0;36m<module>\u001b[1;34m\u001b[0m\n\u001b[0;32m      8\u001b[0m     \u001b[0mKPIS_INFO\u001b[0m\u001b[1;33m=\u001b[0m\u001b[0mkpis_info\u001b[0m\u001b[1;33m,\u001b[0m\u001b[1;33m\u001b[0m\u001b[1;33m\u001b[0m\u001b[0m\n\u001b[0;32m      9\u001b[0m     \u001b[0mLEGEND_DOMAIN\u001b[0m\u001b[1;33m=\u001b[0m\u001b[1;33m[\u001b[0m\u001b[1;36m5\u001b[0m\u001b[1;33m,\u001b[0m \u001b[1;36m50\u001b[0m\u001b[1;33m,\u001b[0m \u001b[1;36m500\u001b[0m\u001b[1;33m,\u001b[0m \u001b[0mnp\u001b[0m\u001b[1;33m.\u001b[0m\u001b[0minf\u001b[0m\u001b[1;33m]\u001b[0m\u001b[1;33m,\u001b[0m\u001b[1;33m\u001b[0m\u001b[1;33m\u001b[0m\u001b[0m\n\u001b[1;32m---> 10\u001b[1;33m     np=np, pd=pd, enumerate=enumerate)\n\u001b[0m\u001b[0;32m     11\u001b[0m \u001b[0mHTML\u001b[0m\u001b[1;33m(\u001b[0m\u001b[1;34mf'<div>{html}</div>'\u001b[0m\u001b[1;33m)\u001b[0m\u001b[1;33m\u001b[0m\u001b[1;33m\u001b[0m\u001b[0m\n",
      "\u001b[1;32m~\\Anaconda3\\lib\\site-packages\\jinja2\\asyncsupport.py\u001b[0m in \u001b[0;36mrender\u001b[1;34m(self, *args, **kwargs)\u001b[0m\n\u001b[0;32m     74\u001b[0m     \u001b[1;32mdef\u001b[0m \u001b[0mrender\u001b[0m\u001b[1;33m(\u001b[0m\u001b[0mself\u001b[0m\u001b[1;33m,\u001b[0m \u001b[1;33m*\u001b[0m\u001b[0margs\u001b[0m\u001b[1;33m,\u001b[0m \u001b[1;33m**\u001b[0m\u001b[0mkwargs\u001b[0m\u001b[1;33m)\u001b[0m\u001b[1;33m:\u001b[0m\u001b[1;33m\u001b[0m\u001b[1;33m\u001b[0m\u001b[0m\n\u001b[0;32m     75\u001b[0m         \u001b[1;32mif\u001b[0m \u001b[1;32mnot\u001b[0m \u001b[0mself\u001b[0m\u001b[1;33m.\u001b[0m\u001b[0menvironment\u001b[0m\u001b[1;33m.\u001b[0m\u001b[0mis_async\u001b[0m\u001b[1;33m:\u001b[0m\u001b[1;33m\u001b[0m\u001b[1;33m\u001b[0m\u001b[0m\n\u001b[1;32m---> 76\u001b[1;33m             \u001b[1;32mreturn\u001b[0m \u001b[0moriginal_render\u001b[0m\u001b[1;33m(\u001b[0m\u001b[0mself\u001b[0m\u001b[1;33m,\u001b[0m \u001b[1;33m*\u001b[0m\u001b[0margs\u001b[0m\u001b[1;33m,\u001b[0m \u001b[1;33m**\u001b[0m\u001b[0mkwargs\u001b[0m\u001b[1;33m)\u001b[0m\u001b[1;33m\u001b[0m\u001b[1;33m\u001b[0m\u001b[0m\n\u001b[0m\u001b[0;32m     77\u001b[0m         \u001b[0mloop\u001b[0m \u001b[1;33m=\u001b[0m \u001b[0masyncio\u001b[0m\u001b[1;33m.\u001b[0m\u001b[0mget_event_loop\u001b[0m\u001b[1;33m(\u001b[0m\u001b[1;33m)\u001b[0m\u001b[1;33m\u001b[0m\u001b[1;33m\u001b[0m\u001b[0m\n\u001b[0;32m     78\u001b[0m         \u001b[1;32mreturn\u001b[0m \u001b[0mloop\u001b[0m\u001b[1;33m.\u001b[0m\u001b[0mrun_until_complete\u001b[0m\u001b[1;33m(\u001b[0m\u001b[0mself\u001b[0m\u001b[1;33m.\u001b[0m\u001b[0mrender_async\u001b[0m\u001b[1;33m(\u001b[0m\u001b[1;33m*\u001b[0m\u001b[0margs\u001b[0m\u001b[1;33m,\u001b[0m \u001b[1;33m**\u001b[0m\u001b[0mkwargs\u001b[0m\u001b[1;33m)\u001b[0m\u001b[1;33m)\u001b[0m\u001b[1;33m\u001b[0m\u001b[1;33m\u001b[0m\u001b[0m\n",
      "\u001b[1;32m~\\Anaconda3\\lib\\site-packages\\jinja2\\environment.py\u001b[0m in \u001b[0;36mrender\u001b[1;34m(self, *args, **kwargs)\u001b[0m\n\u001b[0;32m   1006\u001b[0m         \u001b[1;32mexcept\u001b[0m \u001b[0mException\u001b[0m\u001b[1;33m:\u001b[0m\u001b[1;33m\u001b[0m\u001b[1;33m\u001b[0m\u001b[0m\n\u001b[0;32m   1007\u001b[0m             \u001b[0mexc_info\u001b[0m \u001b[1;33m=\u001b[0m \u001b[0msys\u001b[0m\u001b[1;33m.\u001b[0m\u001b[0mexc_info\u001b[0m\u001b[1;33m(\u001b[0m\u001b[1;33m)\u001b[0m\u001b[1;33m\u001b[0m\u001b[1;33m\u001b[0m\u001b[0m\n\u001b[1;32m-> 1008\u001b[1;33m         \u001b[1;32mreturn\u001b[0m \u001b[0mself\u001b[0m\u001b[1;33m.\u001b[0m\u001b[0menvironment\u001b[0m\u001b[1;33m.\u001b[0m\u001b[0mhandle_exception\u001b[0m\u001b[1;33m(\u001b[0m\u001b[0mexc_info\u001b[0m\u001b[1;33m,\u001b[0m \u001b[1;32mTrue\u001b[0m\u001b[1;33m)\u001b[0m\u001b[1;33m\u001b[0m\u001b[1;33m\u001b[0m\u001b[0m\n\u001b[0m\u001b[0;32m   1009\u001b[0m \u001b[1;33m\u001b[0m\u001b[0m\n\u001b[0;32m   1010\u001b[0m     \u001b[1;32mdef\u001b[0m \u001b[0mrender_async\u001b[0m\u001b[1;33m(\u001b[0m\u001b[0mself\u001b[0m\u001b[1;33m,\u001b[0m \u001b[1;33m*\u001b[0m\u001b[0margs\u001b[0m\u001b[1;33m,\u001b[0m \u001b[1;33m**\u001b[0m\u001b[0mkwargs\u001b[0m\u001b[1;33m)\u001b[0m\u001b[1;33m:\u001b[0m\u001b[1;33m\u001b[0m\u001b[1;33m\u001b[0m\u001b[0m\n",
      "\u001b[1;32m~\\Anaconda3\\lib\\site-packages\\jinja2\\environment.py\u001b[0m in \u001b[0;36mhandle_exception\u001b[1;34m(self, exc_info, rendered, source_hint)\u001b[0m\n\u001b[0;32m    778\u001b[0m             \u001b[0mself\u001b[0m\u001b[1;33m.\u001b[0m\u001b[0mexception_handler\u001b[0m\u001b[1;33m(\u001b[0m\u001b[0mtraceback\u001b[0m\u001b[1;33m)\u001b[0m\u001b[1;33m\u001b[0m\u001b[1;33m\u001b[0m\u001b[0m\n\u001b[0;32m    779\u001b[0m         \u001b[0mexc_type\u001b[0m\u001b[1;33m,\u001b[0m \u001b[0mexc_value\u001b[0m\u001b[1;33m,\u001b[0m \u001b[0mtb\u001b[0m \u001b[1;33m=\u001b[0m \u001b[0mtraceback\u001b[0m\u001b[1;33m.\u001b[0m\u001b[0mstandard_exc_info\u001b[0m\u001b[1;33m\u001b[0m\u001b[1;33m\u001b[0m\u001b[0m\n\u001b[1;32m--> 780\u001b[1;33m         \u001b[0mreraise\u001b[0m\u001b[1;33m(\u001b[0m\u001b[0mexc_type\u001b[0m\u001b[1;33m,\u001b[0m \u001b[0mexc_value\u001b[0m\u001b[1;33m,\u001b[0m \u001b[0mtb\u001b[0m\u001b[1;33m)\u001b[0m\u001b[1;33m\u001b[0m\u001b[1;33m\u001b[0m\u001b[0m\n\u001b[0m\u001b[0;32m    781\u001b[0m \u001b[1;33m\u001b[0m\u001b[0m\n\u001b[0;32m    782\u001b[0m     \u001b[1;32mdef\u001b[0m \u001b[0mjoin_path\u001b[0m\u001b[1;33m(\u001b[0m\u001b[0mself\u001b[0m\u001b[1;33m,\u001b[0m \u001b[0mtemplate\u001b[0m\u001b[1;33m,\u001b[0m \u001b[0mparent\u001b[0m\u001b[1;33m)\u001b[0m\u001b[1;33m:\u001b[0m\u001b[1;33m\u001b[0m\u001b[1;33m\u001b[0m\u001b[0m\n",
      "\u001b[1;32m~\\Anaconda3\\lib\\site-packages\\jinja2\\_compat.py\u001b[0m in \u001b[0;36mreraise\u001b[1;34m(tp, value, tb)\u001b[0m\n\u001b[0;32m     35\u001b[0m     \u001b[1;32mdef\u001b[0m \u001b[0mreraise\u001b[0m\u001b[1;33m(\u001b[0m\u001b[0mtp\u001b[0m\u001b[1;33m,\u001b[0m \u001b[0mvalue\u001b[0m\u001b[1;33m,\u001b[0m \u001b[0mtb\u001b[0m\u001b[1;33m=\u001b[0m\u001b[1;32mNone\u001b[0m\u001b[1;33m)\u001b[0m\u001b[1;33m:\u001b[0m\u001b[1;33m\u001b[0m\u001b[1;33m\u001b[0m\u001b[0m\n\u001b[0;32m     36\u001b[0m         \u001b[1;32mif\u001b[0m \u001b[0mvalue\u001b[0m\u001b[1;33m.\u001b[0m\u001b[0m__traceback__\u001b[0m \u001b[1;32mis\u001b[0m \u001b[1;32mnot\u001b[0m \u001b[0mtb\u001b[0m\u001b[1;33m:\u001b[0m\u001b[1;33m\u001b[0m\u001b[1;33m\u001b[0m\u001b[0m\n\u001b[1;32m---> 37\u001b[1;33m             \u001b[1;32mraise\u001b[0m \u001b[0mvalue\u001b[0m\u001b[1;33m.\u001b[0m\u001b[0mwith_traceback\u001b[0m\u001b[1;33m(\u001b[0m\u001b[0mtb\u001b[0m\u001b[1;33m)\u001b[0m\u001b[1;33m\u001b[0m\u001b[1;33m\u001b[0m\u001b[0m\n\u001b[0m\u001b[0;32m     38\u001b[0m         \u001b[1;32mraise\u001b[0m \u001b[0mvalue\u001b[0m\u001b[1;33m\u001b[0m\u001b[1;33m\u001b[0m\u001b[0m\n\u001b[0;32m     39\u001b[0m \u001b[1;33m\u001b[0m\u001b[0m\n",
      "\u001b[1;32m<template>\u001b[0m in \u001b[0;36mtop-level template code\u001b[1;34m()\u001b[0m\n",
      "\u001b[1;32m~\\Anaconda3\\lib\\site-packages\\jinja2\\runtime.py\u001b[0m in \u001b[0;36m_invoke\u001b[1;34m(self, arguments, autoescape)\u001b[0m\n\u001b[0;32m    577\u001b[0m     \u001b[1;32mdef\u001b[0m \u001b[0m_invoke\u001b[0m\u001b[1;33m(\u001b[0m\u001b[0mself\u001b[0m\u001b[1;33m,\u001b[0m \u001b[0marguments\u001b[0m\u001b[1;33m,\u001b[0m \u001b[0mautoescape\u001b[0m\u001b[1;33m)\u001b[0m\u001b[1;33m:\u001b[0m\u001b[1;33m\u001b[0m\u001b[1;33m\u001b[0m\u001b[0m\n\u001b[0;32m    578\u001b[0m         \u001b[1;34m\"\"\"This method is being swapped out by the async implementation.\"\"\"\u001b[0m\u001b[1;33m\u001b[0m\u001b[1;33m\u001b[0m\u001b[0m\n\u001b[1;32m--> 579\u001b[1;33m         \u001b[0mrv\u001b[0m \u001b[1;33m=\u001b[0m \u001b[0mself\u001b[0m\u001b[1;33m.\u001b[0m\u001b[0m_func\u001b[0m\u001b[1;33m(\u001b[0m\u001b[1;33m*\u001b[0m\u001b[0marguments\u001b[0m\u001b[1;33m)\u001b[0m\u001b[1;33m\u001b[0m\u001b[1;33m\u001b[0m\u001b[0m\n\u001b[0m\u001b[0;32m    580\u001b[0m         \u001b[1;32mif\u001b[0m \u001b[0mautoescape\u001b[0m\u001b[1;33m:\u001b[0m\u001b[1;33m\u001b[0m\u001b[1;33m\u001b[0m\u001b[0m\n\u001b[0;32m    581\u001b[0m             \u001b[0mrv\u001b[0m \u001b[1;33m=\u001b[0m \u001b[0mMarkup\u001b[0m\u001b[1;33m(\u001b[0m\u001b[0mrv\u001b[0m\u001b[1;33m)\u001b[0m\u001b[1;33m\u001b[0m\u001b[1;33m\u001b[0m\u001b[0m\n",
      "\u001b[1;32m<template>\u001b[0m in \u001b[0;36mtemplate\u001b[1;34m()\u001b[0m\n",
      "\u001b[1;31mTypeError\u001b[0m: unsupported format string passed to Undefined.__format__"
     ]
    }
   ],
   "source": [
    "#hide_input\n",
    "template = Template(covid.get_template(covid.paths['overview']))\n",
    "html = template.render(\n",
    "    D=data['summary'], table=data['table'],\n",
    "    newcases=data['newcases'].iloc[:, -15:],\n",
    "    COL_REGION=COL_REGION,\n",
    "    KPI_CASE='US',\n",
    "    KPIS_INFO=kpis_info,\n",
    "    LEGEND_DOMAIN=[5, 50, 500, np.inf],\n",
    "    np=np, pd=pd, enumerate=enumerate)\n",
    "HTML(f'<div>{html}</div>')"
   ]
  },
  {
   "cell_type": "markdown",
   "metadata": {
    "colab_type": "text",
    "id": "CiZKDfJiOsrn",
    "papermill": {
     "duration": 0.011638,
     "end_time": "2020-04-06T06:06:27.129470",
     "exception": false,
     "start_time": "2020-04-06T06:06:27.117832",
     "status": "completed"
    },
    "tags": []
   },
   "source": [
    "[^1]: Source: [\"The New York Times\"](https://github.com/nytimes/covid-19-data). Link to [notebook](https://github.com/pratapvardhan/notebooks/blob/master/covid19/covid19-overview-us.ipynb), [orignal interactive](https://gramener.com/enumter/covid19/united-states.html)"
   ]
  },
  {
   "cell_type": "code",
   "execution_count": null,
   "metadata": {
    "papermill": {
     "duration": 0.011842,
     "end_time": "2020-04-06T06:06:27.152582",
     "exception": false,
     "start_time": "2020-04-06T06:06:27.140740",
     "status": "completed"
    },
    "tags": []
   },
   "outputs": [],
   "source": []
  }
 ],
 "metadata": {
  "colab": {
   "name": "2020-03-21-covid19-overview-us.ipynb",
   "provenance": []
  },
  "kernelspec": {
   "display_name": "Python 3",
   "language": "python",
   "name": "python3"
  },
  "language_info": {
   "codemirror_mode": {
    "name": "ipython",
    "version": 3
   },
   "file_extension": ".py",
   "mimetype": "text/x-python",
   "name": "python",
   "nbconvert_exporter": "python",
   "pygments_lexer": "ipython3",
   "version": "3.7.3"
  },
  "papermill": {
   "duration": 1.83937,
   "end_time": "2020-04-06T06:06:27.272098",
   "environment_variables": {},
   "exception": null,
   "input_path": "2020_03_21_covid19_overview_us.ipynb",
   "output_path": "2020_03_21_covid19_overview_us.ipynb",
   "parameters": {},
   "start_time": "2020-04-06T06:06:25.432728",
   "version": "2.0.0"
  }
 },
 "nbformat": 4,
 "nbformat_minor": 4
}
